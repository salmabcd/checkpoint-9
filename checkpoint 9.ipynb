{
 "cells": [
  {
   "cell_type": "code",
   "execution_count": 1,
   "id": "43522bc6",
   "metadata": {},
   "outputs": [
    {
     "name": "stdout",
     "output_type": "stream",
     "text": [
      "insert your list length : 4\n",
      "insert elements in your list :45\n",
      "insert elements in your list :5\n",
      "insert elements in your list :52\n",
      "insert elements in your list :25\n",
      "this is your list : ['45', '5', '52', '25']\n",
      "this your sorted list :  ['25', '45', '5', '52']\n",
      "insert an element to search in your list: \n",
      "False\n"
     ]
    }
   ],
   "source": [
    "#1\n",
    "def saisielist():\n",
    "    list_input=[]\n",
    "    length_list=int(input('insert your list length : '))\n",
    "    while length_list<=0 :\n",
    "        length_list=int(input('insert your list length : '))\n",
    "    for i in range (length_list):\n",
    "        element=input(\"insert elements in your list :\")\n",
    "        list_input.append(element)\n",
    "    print('this is your list :',list_input)\n",
    "    list_input=sorted(list_input)\n",
    "    print('this your sorted list : ',list_input)\n",
    "    return list_input\n",
    "def binary_search(list_search,first,last,element_search):\n",
    "    if last >= first:\n",
    "        mid = int(first + (last - first)/2)\n",
    "        if list_search[mid] == element_search:\n",
    "            return True,mid\n",
    "        elif list_search[mid] > element_search:\n",
    "            return binary_search(list_search, first, mid-1, element_search)\n",
    "        else:\n",
    "            return binary_search(list_search, mid+1, last, element_search)\n",
    "    else:\n",
    "        return False,0\n",
    "l=saisielist()\n",
    "f=0;la=len(l)-1\n",
    "element_input=input('insert an element to search in your list: ')\n",
    "result,index=binary_search(l,f,la,element_input)\n",
    "if index==0 :\n",
    "    print(result)\n",
    "else:\n",
    "    print(result,'your element is in position ',index)"
   ]
  },
  {
   "cell_type": "code",
   "execution_count": 2,
   "id": "14bd6e65",
   "metadata": {},
   "outputs": [
    {
     "name": "stdout",
     "output_type": "stream",
     "text": [
      "insert an number: 54\n",
      "insert another number to power the first: 25\n",
      "this is your result : 20410046566186296742332216391818083643162624\n"
     ]
    }
   ],
   "source": [
    "#2\n",
    "element_input= int(input('insert an number: '))\n",
    "power_input=int(input('insert another number to power the first: ')) \n",
    "while power_input<0 :\n",
    "    power_input=int(input('insert another number to power the first: '))\n",
    "result=element_input**power_input\n",
    "print('this is your result :', result)"
   ]
  },
  {
   "cell_type": "code",
   "execution_count": 3,
   "id": "16b2d481",
   "metadata": {},
   "outputs": [
    {
     "name": "stdout",
     "output_type": "stream",
     "text": [
      "insert your list length : 5\n",
      "insert elements in your list :3\n",
      "insert elements in your list :37\n",
      "insert elements in your list :5554\n",
      "insert elements in your list :636\n",
      "insert elements in your list :524\n",
      "this is your list : ['3', '37', '5554', '636', '524']\n",
      "this is your sorted list:  ['3', '37', '524', '5554', '636']\n"
     ]
    }
   ],
   "source": [
    "#3\n",
    "def saisielist():\n",
    "    list_input=[]\n",
    "    length_list=int(input('insert your list length : '))\n",
    "    while length_list<=0 :\n",
    "        length_list=int(input('insert your list length : '))\n",
    "    for i in range (length_list):\n",
    "        element=input(\"insert elements in your list :\")\n",
    "        list_input.append(element)\n",
    "    print('this is your list :',list_input)\n",
    "    return list_input\n",
    "def bubble_sort(a):\n",
    "    for i in range (len(a)-1):\n",
    "        \n",
    "        if a[i]>=a[i+1] :\n",
    "            d=a[i]\n",
    "            a[i]=a[i+1]\n",
    "            a[i+1]=d\n",
    "            \n",
    "    for i in range (len(a)-1):\n",
    "        if a[i]>a[i+1]:\n",
    "            a=bubble_sort(a)\n",
    "    return a\n",
    "l=saisielist()\n",
    "print('this is your sorted list: ',bubble_sort(l))\n"
   ]
  },
  {
   "cell_type": "code",
   "execution_count": 5,
   "id": "60d91678",
   "metadata": {},
   "outputs": [
    {
     "name": "stdout",
     "output_type": "stream",
     "text": [
      "insert your list length : 1\n",
      "insert elements in your list :552,85,820,852000\n",
      "this is your list : ['552,85,820,852000']\n",
      "this is your sorted list:  ['552,85,820,852000']\n"
     ]
    }
   ],
   "source": [
    "#4\n",
    "def saisielist():\n",
    "    list_input=[]\n",
    "    length_list=int(input('insert your list length : '))\n",
    "    while length_list<=0 :\n",
    "        length_list=int(input('insert your list length : '))\n",
    "    for i in range (length_list):\n",
    "        element=input(\"insert elements in your list :\")\n",
    "        list_input.append(element)\n",
    "    print('this is your list :',list_input)\n",
    "    return list_input\n",
    "def mergeSort(myList):\n",
    "    if len(myList) > 1:\n",
    "        mid = len(myList) // 2\n",
    "        left = myList[:mid]\n",
    "        right = myList[mid:]\n",
    "        mergeSort(left)\n",
    "        mergeSort(right)\n",
    "        i = 0\n",
    "        j = 0\n",
    "        k = 0\n",
    "        while i < len(left) and j < len(right):\n",
    "            if left[i] < right[j]:\n",
    "                myList[k] = left[i]\n",
    "                i += 1\n",
    "            else:\n",
    "                myList[k] = right[j]\n",
    "                j += 1\n",
    "            k += 1\n",
    "        while i < len(left):\n",
    "            myList[k] = left[i]\n",
    "            i += 1\n",
    "            k += 1\n",
    "        while j < len(right):\n",
    "            myList[k]=right[j]\n",
    "            j += 1\n",
    "            k += 1\n",
    "    return myList\n",
    "l=saisielist()\n",
    "l_result=mergeSort(l)\n",
    "print('this is your sorted list: ',l_result)"
   ]
  },
  {
   "cell_type": "code",
   "execution_count": 6,
   "id": "8ae76bea",
   "metadata": {
    "collapsed": true
   },
   "outputs": [
    {
     "name": "stdout",
     "output_type": "stream",
     "text": [
      "insert your list length : 1\n",
      "insert elements in your list :5\n",
      "this is your list : ['5']\n",
      "this is your sorted array:  ['5']\n"
     ]
    }
   ],
   "source": [
    "#5\n",
    "def saisielist():\n",
    "    list_input=[]\n",
    "    length_list=int(input('insert your list length : '))\n",
    "    while length_list<=0 :\n",
    "        length_list=int(input('insert your list length : '))\n",
    "    for i in range (length_list):\n",
    "        element=input(\"insert elements in your list :\")\n",
    "        list_input.append(element)\n",
    "    print('this is your list :',list_input)\n",
    "    return list_input\n",
    "def partition(array, start, end):\n",
    "    pivot = array[start]\n",
    "    low = start + 1\n",
    "    high = end\n",
    "    while True:\n",
    "        while low <= high and array[high] >= pivot:\n",
    "            high = high - 1\n",
    "        while low <= high and array[low] <= pivot:\n",
    "            low = low + 1\n",
    "        if low <= high:\n",
    "            array[low], array[high] = array[high], array[low]\n",
    "        else:\n",
    "            break\n",
    "    array[start], array[high] = array[high], array[start]\n",
    "    return high\n",
    "def quick_sort(array, start, end):\n",
    "    if start >= end:\n",
    "        return\n",
    "    p = partition(array, start, end)\n",
    "    quick_sort(array, start, p-1)\n",
    "    quick_sort(array, p+1, end)\n",
    "l=saisielist()\n",
    "quick_sort(l,0,len(l)-1)\n",
    "print('this is your sorted array: ',l)"
   ]
  }
 ],
 "metadata": {
  "kernelspec": {
   "display_name": "Python 3",
   "language": "python",
   "name": "python3"
  },
  "language_info": {
   "codemirror_mode": {
    "name": "ipython",
    "version": 3
   },
   "file_extension": ".py",
   "mimetype": "text/x-python",
   "name": "python",
   "nbconvert_exporter": "python",
   "pygments_lexer": "ipython3",
   "version": "3.8.8"
  }
 },
 "nbformat": 4,
 "nbformat_minor": 5
}
